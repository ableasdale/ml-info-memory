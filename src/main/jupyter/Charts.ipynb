{
 "cells": [
  {
   "cell_type": "code",
   "execution_count": null,
   "metadata": {},
   "outputs": [],
   "source": [
    "import pandas as pd\n",
    "import matplotlib.pyplot as plt\n",
    "import seaborn as sns\n",
    "sns.set(style=\"darkgrid\")\n",
    "df = pd.read_csv('/Users/ableasdale/Documents/workspace/ml-info-memory/yourfile.csv')\n",
    "df"
   ]
  },
  {
   "cell_type": "code",
   "execution_count": null,
   "metadata": {},
   "outputs": [],
   "source": [
    "import pandas as pd\n",
    "import matplotlib.pyplot as plt\n",
    "\n",
    "df = pd.read_csv('/Users/ableasdale/Documents/workspace/ml-info-memory/yourfile.csv')\n",
    "\n",
    "plt.figure(figsize=(16,9))\n",
    "x = df['time']\n",
    "\n",
    "plt.plot(x, df['huge'], \"-r\", label=\"Huge Pages\")\n",
    "plt.plot(x, df['unclosed'], \"-g\", label=\"Unclosed Stands\")\n",
    "\n",
    "plt.xlabel('Time')\n",
    "plt.ylabel('MB')\n",
    "plt.title('Huge Pages and Unclosed Stands')\n",
    "plt.legend()\n",
    "\n",
    "plt.show()"
   ]
  },
  {
   "cell_type": "code",
   "execution_count": null,
   "metadata": {},
   "outputs": [],
   "source": [
    "import pandas as pd\n",
    "import matplotlib.pyplot as plt\n",
    "\n",
    "df = pd.read_csv('/Users/ableasdale/Documents/workspace/ml-info-memory/yourfile.csv')\n",
    "\n",
    "plt.figure(figsize=(16,9))\n",
    "x = df['time']\n",
    "\n",
    "plt.plot(x, df['size'], \"-b\", label=\"Memory Size\")\n",
    "plt.plot(x, df['huge'], \"-r\", label=\"Huge Pages\")\n",
    "plt.plot(x, df['unclosed'], \"-g\", label=\"Unclosed Stands\")\n",
    "\n",
    "plt.xlabel('Time')\n",
    "plt.ylabel('MB')\n",
    "plt.title('Huge Pages, Unclosed Stands and Memory Size')\n",
    "plt.legend()\n",
    "\n",
    "plt.show()"
   ]
  },
  {
   "cell_type": "code",
   "execution_count": null,
   "metadata": {},
   "outputs": [],
   "source": [
    "import pandas as pd\n",
    "import matplotlib.pyplot as plt\n",
    "\n",
    "df = pd.read_csv('/Users/ableasdale/Documents/workspace/ml-info-memory/yourfile.csv')\n",
    "x = df['time']\n",
    "\n",
    "plt.figure(figsize=(17,10))\n",
    "plt.plot(x, df['size'], \"-b\", label=\"Memory Size\")\n",
    "plt.plot(x, df['huge'], \"-r\", label=\"Huge Pages\")\n",
    "plt.xlabel('Time')\n",
    "plt.ylabel('MB')\n",
    "plt.title('Huge Pages and Memory Size')\n",
    "plt.legend(loc=\"upper left\")\n",
    "plt.show()"
   ]
  }
 ],
 "metadata": {
  "kernelspec": {
   "display_name": "Python 3",
   "language": "python",
   "name": "python3"
  },
  "language_info": {
   "codemirror_mode": {
    "name": "ipython",
    "version": 3
   },
   "file_extension": ".py",
   "mimetype": "text/x-python",
   "name": "python",
   "nbconvert_exporter": "python",
   "pygments_lexer": "ipython3",
   "version": "3.7.3"
  }
 },
 "nbformat": 4,
 "nbformat_minor": 2
}
