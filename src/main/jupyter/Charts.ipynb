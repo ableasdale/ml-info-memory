{
 "cells": [
  {
   "cell_type": "code",
   "execution_count": null,
   "metadata": {},
   "outputs": [],
   "source": [
    "import pandas as pd\n",
    "import matplotlib.pyplot as plt\n",
    "import seaborn as sns\n",
    "sns.set(style=\"darkgrid\")\n",
    "df = pd.read_csv('/Users/ableasdale/Documents/workspace/ml-info-memory/yourfile.csv')\n",
    "df"
   ]
  },
  {
   "cell_type": "code",
   "execution_count": null,
   "metadata": {},
   "outputs": [],
   "source": [
    "import pandas as pd\n",
    "import matplotlib.pyplot as plt\n",
    "\n",
    "df = pd.read_csv('/Users/ableasdale/Documents/workspace/ml-info-memory/yourfile.csv')\n",
    "# ,names=headers\n",
    "\n",
    "# plot\n",
    "plt.figure(figsize=(17,7))\n",
    "plt.plot(df['time'],df['huge'], df['unclosed'])\n",
    "plt.xlabel('Time')\n",
    "plt.ylabel('MB')\n",
    "plt.title('Huge Pages and Unclosed Stands')\n",
    "# plt.legend()\n",
    "# beautify the x-labels\n",
    "# plt.gcf().autofmt_xdate()\n",
    "\n",
    "plt.show()"
   ]
  },
  {
   "cell_type": "code",
   "execution_count": null,
   "metadata": {},
   "outputs": [],
   "source": []
  }
 ],
 "metadata": {
  "kernelspec": {
   "display_name": "Python 3",
   "language": "python",
   "name": "python3"
  },
  "language_info": {
   "codemirror_mode": {
    "name": "ipython",
    "version": 3
   },
   "file_extension": ".py",
   "mimetype": "text/x-python",
   "name": "python",
   "nbconvert_exporter": "python",
   "pygments_lexer": "ipython3",
   "version": "3.7.3"
  }
 },
 "nbformat": 4,
 "nbformat_minor": 2
}
